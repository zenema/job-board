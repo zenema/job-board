{
 "cells": [
  {
   "cell_type": "code",
   "execution_count": 77,
   "metadata": {},
   "outputs": [],
   "source": [
    "# importing libraries\n",
    "from bs4 import BeautifulSoup\n",
    "import urllib.request\n",
    "import requests as r\n",
    "import re"
   ]
  },
  {
   "cell_type": "code",
   "execution_count": 106,
   "metadata": {},
   "outputs": [],
   "source": [
    "def scrap_that_url(url):\n",
    "    \"\"\"\n",
    "    input: expects a result page of metajob.de (e.g. https://www.metajob.de/remote)\n",
    "    output: title, snippet, age, url to origin, location\n",
    "    \"\"\"\n",
    "    try:\n",
    "        page = urllib.request.urlopen(url) # connect to website\n",
    "    except:\n",
    "        print(\"Could not open URL.\")\n",
    "        \n",
    "    soup = BeautifulSoup(page, 'html.parser') # soup object\n",
    "    \n",
    "    title = structure_output(soup, \"rTitle\")\n",
    "    location = structure_output(soup, \"resultLocBlock\")\n",
    "    age = structure_output(soup, \"resultAgeBlock\")\n",
    "    company = structure_output(soup, \"rUrl\")\n",
    "    description = structure_output(soup, \"snippet\")\n",
    "    url = structure_output(soup, \"rTitle\", True)\n",
    "    \n",
    "    return title, location, age, company, description, url"
   ]
  },
  {
   "cell_type": "code",
   "execution_count": 107,
   "metadata": {},
   "outputs": [],
   "source": [
    "def structure_output(soup, key, url=False):\n",
    "    key = \"^\"+key\n",
    "    to_scrap = re.compile(key)\n",
    "    unstructured_list = soup.find_all('div', attrs={'class': to_scrap})\n",
    "    output = []\n",
    "    for li in unstructured_list:\n",
    "        if url==True:\n",
    "            output.append(get_original_job_link(li.find('a')))\n",
    "        else:\n",
    "            output.append(li.getText().split('\\n')[0])\n",
    "    return output"
   ]
  },
  {
   "cell_type": "code",
   "execution_count": 114,
   "metadata": {},
   "outputs": [],
   "source": [
    "\"\"\"Helper function. Generate pure original job post link\"\"\"\n",
    "def meta_job_redirect_to_full_link(meta_job_redirect_link):\n",
    "    regex = r'(&cid*?.*)|(utm*?.*&)|(campaign*?.*&)' # removes affiliate backlinks#\n",
    "    if \"/dres/\" not in meta_job_redirect_link:\n",
    "        meta_job_redirect_link = str(meta_job_redirect_link)\n",
    "        return re.sub(regex, \"\", meta_job_redirect_link)\n",
    "    return re.sub(regex, \"\", r.get(meta_job_redirect_link).url)\n",
    "\n",
    "\"\"\"Convert scraped metajob.de job-links into original job post links\"\"\"\n",
    "def get_original_job_link(meta_job_a_tag_with_href):\n",
    "    print(\"converting meta job link\") # DEBUG\n",
    "    if \"/dres/\" not in meta_job_a_tag_with_href['href']:\n",
    "        print(meta_job_a_tag_with_href['href'])\n",
    "        return meta_job_redirect_to_full_link(meta_job_a_tag_with_href)\n",
    "    base_url = \"https://www.metajob.de\"\n",
    "    if(meta_job_a_tag_with_href['href'] != \"javascript:;\"):\n",
    "        redirect_link = base_url + meta_job_a_tag_with_href['href'] # Generate redirectional link\n",
    "        # print(\"meta job link conversion complete!\") # DEBUG\n",
    "        return meta_job_redirect_to_full_link(redirect_link)"
   ]
  },
  {
   "cell_type": "code",
   "execution_count": 115,
   "metadata": {},
   "outputs": [
    {
     "name": "stdout",
     "output_type": "stream",
     "text": [
      "converting meta job link\n",
      "converting meta job link\n",
      "converting meta job link\n",
      "converting meta job link\n",
      "converting meta job link\n",
      "converting meta job link\n",
      "converting meta job link\n",
      "https://www.stepstone.de/stellenangebote----20200805---6586793-inline.html?cid=msearche_metajob___Y\n",
      "converting meta job link\n",
      "converting meta job link\n",
      "converting meta job link\n"
     ]
    }
   ],
   "source": [
    "title, location, age, company, description, url = scrap_that_url(\"https://www.metajob.de/remote\")"
   ]
  },
  {
   "cell_type": "code",
   "execution_count": 116,
   "metadata": {
    "collapsed": true
   },
   "outputs": [
    {
     "name": "stdout",
     "output_type": "stream",
     "text": [
      "Informatiker (m/w/d) im Remote Service\n",
      "Berlin, Dresden, Karlsruhe, Wuppertal\n",
      "vor 2 T\n",
      "BG-Phoenics GmbH\n",
      " \n",
      "Sie können sich für spannende Herausforderungen begeistern und möchten uns dabei unterstützen, unsere Marktposition weiter auszubauen ... Sie übernehmen die Betreuung der Endnutzer (m/w/d) in allen Fragen zu lokalen PCs bzw. Notebooks, Druckern und sonstigen Peripheriesystemen über Remt.-Mechanismen\n",
      " \n",
      "https://www.stepstone.de/stellenangebote--Informatiker-m-w-d-im-Remote-Service-Berlin-Dresden-Karlsruhe-Wuppertal-BG-Phoenics-GmbH--6599227-inline.html?lang=de&rewrite=1\n",
      " \n",
      " \n",
      " \n",
      "Product Owner - Remote Access (w/m/d)\n",
      "Frankfurt\n",
      "vor 20 T\n",
      "Deutsche Bahn AG\n",
      " \n",
      "Als Product Owner verantwortest du die Leistung und die konsequente Weiterentwicklung der Access Services unter Berücksichtigung des Kundennutzens sowie deren Wirtschaftlichkeit - Du analysierst Kundenanforderungen und den Markt im Bereich Remote Access VPN, Web Access Management und Access Security und inspirierst dein Team mit neuen Ideen und fachlichen Lösungsansätzen\n",
      " \n",
      "https://www.stepstone.de/stellenangebote--Product-Owner-Remote-Access-w-m-d-Frankfurt-Main-Decid=msearche_metajob___Y\n",
      " \n",
      " \n",
      " \n",
      "Administrator Fortigate / Fortinet (Remote) (m/w/d) - Remt. / Dortmund - 53782/FV\n",
      "Dortmund\n",
      "vor 18 T\n",
      "freiberuflervermittlung.de\n",
      " \n",
      "Betrieb von Fortigate-Firewalls, einschließlich Fortimanager-, IDS / IPS-, VPN- und SD-WAN-Setups - Betreuung der vorhandenen Sicherheits- und Netzwerktechnologien ... Langjährige Berufserfahrung im Betrieb von Sicherheits- und Netzwerktechnologien\n",
      " \n",
      "https://freiberuflervermittlung.de/projekte/administrator-fortigate-fortinet-remote-m-w-d-remote-dortmund-53782-fv\n",
      " \n",
      " \n",
      " \n",
      "Techniker Leitwarte / Remote Services (m/w/d)\n",
      "Zossen\n",
      "vor 2 T\n",
      "Energiequelle GmbH\n",
      " \n",
      "Mit über 250 Mitarbeitern in Deutschland, Frankreich und Finnland sind wir ein international tätiges Unternehmen – leidenschaftlich, mutig und menschlich. Für unseren Standort Kallinchen suchen wir einen Mitarbeiter für unsere Leitwarte, der mit uns gemeinsam die Energiewende weiter vorantreibt\n",
      " \n",
      "https://www.stepstone.de/stellenangebote--Techniker-Leitwarte-Remote-Services-m-w-d-Zossen-Energiequelle-GmbH--6599841-inline.html?lang=de&rewrite=1\n",
      " \n",
      " \n",
      " \n",
      "System Administrator - Remote Access Lösungen (m/w/d)\n",
      "Berlin\n",
      "vor 7 T\n",
      "BWI GmbH\n",
      " \n",
      "Wir suchen authentische IT-Liebhaber*innen, die ihre Leidenschaft mit uns teilen wollen, auf der Suche nach anspruchsvollen IT-Herausforderungen sind und Deutschlands IT gestalten möchten. Sorgen Sie gemeinsam mit uns für die digitale Zukunftsfähigkeit unseres Landes\n",
      " \n",
      "https://www.stepstone.de/stellenangebote--System-Administrator-Remote-Access-Loesungen-m-w-d-Berlin-BWI-GmbH--6593068-inline.html?lang=de&rewrite=1\n",
      " \n",
      " \n",
      " \n",
      "Software Engineer (w/m/d) Homeoffice / Remote oder Lübeck\n",
      "Lübeck\n",
      "vor 2 T\n",
      "Qualitypool GmbH - ein Tochterunternehmen der Hypoport SE\n",
      " \n",
      "Für Job-Details siehe Stellenangebot ...\n",
      " \n",
      "https://www.stepstone.de/stellenangebote--Software-Engineer-w-m-d-Homeoffice-Remote-oder-Luebeck-Luebeck-Home-Office-Qualitypool-GmbH-ein-Tochterunternehmen-der-Hypoport-SE--6623245-inline.html?lang=de&rewrite=1\n",
      " \n",
      " \n",
      " \n",
      "Remote Service und Training Spezialisten (m/w/d)\n",
      "Ulm\n",
      "vor 10 T\n",
      "ulrich GmbH & Co. KG\n",
      " \n",
      "Durch Entwicklung, Fertigung und Vertrieb medizintechnischer Produkte tragen wir zur Erhaltung und Wiederherstellung der Gesundheit bei. Zur Verstärkung unseres Teams Applikation & Technischer Service Geräte im Bereich Vertrieb Kontrastmittelinjektoren suchen wir baldmöglichst einen ... Job-Nummer: VT-2-139\n",
      " \n",
      "<a class=\"resultUrl\" href=\"https://www.stepstone.de/stellenangebote----20200805---6586793-inline.html?cid=msearche_metajob___Y\" rel=\"noopener\" target=\"_blank\">Remote Service und Training Spezialisten (m/w/d)</a>\n",
      " \n",
      " \n",
      " \n",
      "Logistikmanager External Fulfillment (3PL) - Working Remote (m/w/d) - Hamburg oder Nürnberg\n",
      "Hamburg, Nürnberg\n",
      "vor 14 T\n",
      "Amazon Europe Core\n",
      " \n",
      "Es ist unser Ziel, das kundenfreundlichste Unternehmen der Welt aufzubauen. We Pioneer. Ein Tag, den ersten Schritt zu tun. Ein Tag, sich neuen Herausforderungen zu stellen. Und heute könnte der Tag sein, an dem Sie selbst Teil einer großen Idee werden\n",
      " \n",
      "https://www.stepstone.de/stellenangebote--Logistikmanager-External-Fulfillment-3PL-Working-Remote-m-w-d-Hamburg-oder-Nuernberg-Hamburg-oder-Nuernberg-Amazon-Europe-Core--6534952-inline.html?lang=de&rewrite=1\n",
      " \n",
      " \n",
      " \n",
      "Systems Engineer - Remote Access Lösungen (m/w/d)\n",
      " \n",
      "vor 7 T\n",
      "BWI GmbH\n",
      " \n",
      "Wir suchen authentische IT-Liebhaber*innen, die ihre Leidenschaft mit uns teilen wollen, auf der Suche nach anspruchsvollen IT-Herausforderungen sind und Deutschlands IT gestalten möchten ... Bearbeitung von Störungen mittels Fernwartung- oder Diagnoseverfahren und Entstörung per Remt. Konfiguration im Rahmen des Second Level Supports\n",
      " \n",
      "https://www.stepstone.de/stellenangebote--Systems-Engineer-Remote-Access-Loesungen-m-w-d-Meckenheim-BWI-GmbH--6593069-inline.html?lang=de&rewrite=1\n",
      " \n",
      " \n",
      " \n",
      "IT-Servicetechniker (w/m/d) Remote Support\n",
      "Neckarsulm\n",
      "vor 4 T\n",
      "Bechtle Onsite Services GmbH\n",
      " \n",
      "Bechtle Onsite Services bietet als Teil der Bechtle Managed Services AG professionelle Lösungen rund um den vernetzten IT-Arbeitsplatz. Im Fokus steht dabei die vollständige Übernahme der Verantwortung für den Betrieb der Kunden IT-Infrastruktur ... 2nd Level Support via Remt.\n",
      " \n",
      "https://www.stepstone.de/stellenangebote--IT-Servicetechniker-w-m-d-Remote-Support-Neckarsulm-Bechtle-Onsite-Services-GmbH--6619391-inline.html?lang=de&rewrite=1\n",
      " \n",
      " \n",
      " \n"
     ]
    }
   ],
   "source": [
    "for i in range(10):\n",
    "    print(title[i])\n",
    "    print( location[i])\n",
    "    print( age[i])\n",
    "    print(company[i])\n",
    "    print(' ')\n",
    "    print(description[i])\n",
    "    print(' ')\n",
    "    print(url[i])\n",
    "    print(' ')\n",
    "    print(' ')\n",
    "    print(' ')"
   ]
  },
  {
   "cell_type": "code",
   "execution_count": null,
   "metadata": {},
   "outputs": [],
   "source": []
  },
  {
   "cell_type": "code",
   "execution_count": null,
   "metadata": {},
   "outputs": [],
   "source": []
  },
  {
   "cell_type": "code",
   "execution_count": null,
   "metadata": {},
   "outputs": [],
   "source": []
  },
  {
   "cell_type": "code",
   "execution_count": 84,
   "metadata": {},
   "outputs": [],
   "source": []
  },
  {
   "cell_type": "code",
   "execution_count": null,
   "metadata": {},
   "outputs": [],
   "source": []
  },
  {
   "cell_type": "code",
   "execution_count": null,
   "metadata": {},
   "outputs": [],
   "source": []
  },
  {
   "cell_type": "code",
   "execution_count": null,
   "metadata": {},
   "outputs": [],
   "source": []
  }
 ],
 "metadata": {
  "kernelspec": {
   "display_name": "Python 3",
   "language": "python",
   "name": "python3"
  },
  "language_info": {
   "codemirror_mode": {
    "name": "ipython",
    "version": 3
   },
   "file_extension": ".py",
   "mimetype": "text/x-python",
   "name": "python",
   "nbconvert_exporter": "python",
   "pygments_lexer": "ipython3",
   "version": "3.7.6"
  }
 },
 "nbformat": 4,
 "nbformat_minor": 4
}
